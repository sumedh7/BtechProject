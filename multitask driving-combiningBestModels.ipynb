{
 "cells": [
  {
   "cell_type": "code",
   "execution_count": 1,
   "metadata": {},
   "outputs": [
    {
     "data": {
      "text/plain": [
       "['X']"
      ]
     },
     "execution_count": 1,
     "metadata": {},
     "output_type": "execute_result"
    }
   ],
   "source": [
    "import h5py\n",
    "filenameCamera = '/home/is-lab/Desktop/Untitled Folder/Project/camera/2016-04-21--14-48-08.h5'\n",
    "fCamera = h5py.File(filenameCamera, 'r')\n",
    "\n",
    "list (fCamera)\n",
    "\n",
    "# List all groups\n",
    "#print(\"Keys: %s\" % f.keys())\n",
    "#a_group_key = list(f.keys())[0]\n",
    "\n",
    "# Get the data\n",
    "#data = list(f[a_group_key])\n",
    "#print (data)"
   ]
  },
  {
   "cell_type": "code",
   "execution_count": 2,
   "metadata": {},
   "outputs": [
    {
     "data": {
      "text/plain": [
       "(30538, 3, 160, 320)"
      ]
     },
     "execution_count": 2,
     "metadata": {},
     "output_type": "execute_result"
    }
   ],
   "source": [
    "fCamera['X'].shape"
   ]
  },
  {
   "cell_type": "code",
   "execution_count": 3,
   "metadata": {},
   "outputs": [],
   "source": [
    "import h5py\n",
    "filenameLog = '/home/is-lab/Desktop/Untitled Folder/Project/log/2016-04-21--14-48-08.h5'\n",
    "fLog = h5py.File(filenameLog, 'r')\n",
    "\n",
    "#list (fLog)\n"
   ]
  },
  {
   "cell_type": "code",
   "execution_count": 4,
   "metadata": {},
   "outputs": [
    {
     "data": {
      "text/plain": [
       "(152650,)"
      ]
     },
     "execution_count": 4,
     "metadata": {},
     "output_type": "execute_result"
    }
   ],
   "source": [
    "\n",
    "a = fLog['cam1_ptr']\n",
    "#len([i for i, e in enumerate(a) if e != 0])\n",
    "a.shape"
   ]
  },
  {
   "cell_type": "code",
   "execution_count": 5,
   "metadata": {},
   "outputs": [],
   "source": [
    "a1 = list(a)\n",
    "#print (a1)\n",
    "#print(a[3000:4000])\n",
    "#a.index(\"621\")\n",
    "#print(a[294916])"
   ]
  },
  {
   "cell_type": "code",
   "execution_count": 6,
   "metadata": {},
   "outputs": [
    {
     "data": {
      "text/plain": [
       "3110"
      ]
     },
     "execution_count": 6,
     "metadata": {},
     "output_type": "execute_result"
    }
   ],
   "source": [
    "a1.index(621)"
   ]
  },
  {
   "cell_type": "code",
   "execution_count": 7,
   "metadata": {},
   "outputs": [
    {
     "data": {
      "text/plain": [
       "-0.2787096614676553"
      ]
     },
     "execution_count": 7,
     "metadata": {},
     "output_type": "execute_result"
    }
   ],
   "source": [
    "fLog['speed'][3148]"
   ]
  },
  {
   "cell_type": "code",
   "execution_count": 8,
   "metadata": {},
   "outputs": [
    {
     "name": "stdout",
     "output_type": "stream",
     "text": [
      "30538\n",
      "30538\n"
     ]
    }
   ],
   "source": [
    "prev = 0\n",
    "k = 0\n",
    "sumSpeed = 0\n",
    "sumSteering = 0\n",
    "\n",
    "l = 0\n",
    "mSpeed = list()\n",
    "mSteering = list()\n",
    "\n",
    "for i in a:\n",
    "    if i!=prev:\n",
    "        mSpeed.append(sumSpeed/l)\n",
    "        mSteering.append(sumSteering/l)\n",
    "        l = 1\n",
    "        sumSpeed = fLog['speed'][k];\n",
    "        sumSteering = fLog['steering_angle'][k];\n",
    "    else:\n",
    "        sumSpeed = fLog['speed'][k];\n",
    "        sumSteering = fLog['steering_angle'][k];\n",
    "        l = l+1\n",
    "    prev = i\n",
    "    k = k+1\n",
    "    \n",
    "print(len(mSpeed))\n",
    "print(len(mSteering))"
   ]
  },
  {
   "cell_type": "code",
   "execution_count": 9,
   "metadata": {},
   "outputs": [],
   "source": [
    "#len(m)"
   ]
  },
  {
   "cell_type": "code",
   "execution_count": 10,
   "metadata": {},
   "outputs": [
    {
     "name": "stdout",
     "output_type": "stream",
     "text": [
      "(3, 160, 320)\n"
     ]
    }
   ],
   "source": [
    "image = fCamera['X'][4090,:,:,:]\n",
    "print(image.shape)\n",
    "import numpy as np\n",
    "import matplotlib.pyplot as plt\n",
    "import matplotlib.image as mpimg\n",
    "from PIL import Image\n",
    "\n",
    "def rgb2gray(rgb):\n",
    "    r, g, b = rgb[0,:,:], rgb[1,:,:], rgb[2,:,:]\n",
    "    gray = 0.2989 * r + 0.5870 * g + 0.1140 * b\n",
    "    #return np.dot(rgb[:3,:,:], [0.299, 0.587, 0.114])\n",
    "    return gray\n",
    "     \n",
    "from scipy.misc import toimage\n",
    "from scipy.misc import imshow\n",
    "#imshow(image)\n",
    "\n",
    "gray = rgb2gray(image)  \n",
    "#imshow(gray)"
   ]
  },
  {
   "cell_type": "code",
   "execution_count": 11,
   "metadata": {},
   "outputs": [
    {
     "name": "stderr",
     "output_type": "stream",
     "text": [
      "/home/is-lab/.local/lib/python3.5/site-packages/h5py/_hl/dataset.py:313: H5pyDeprecationWarning: dataset.value has been deprecated. Use dataset[()] instead.\n",
      "  \"Use dataset[()] instead.\", H5pyDeprecationWarning)\n"
     ]
    }
   ],
   "source": [
    "x = fCamera['X'].value\n",
    "ySpeed = np.asarray(mSpeed)\n",
    "ySteering = np.asarray(mSteering)\n",
    "fCamera.close()\n",
    "fLog.close()\n",
    "\n",
    "#x_train , x_test, y_train, y_test = train_test_split(x,y,test_size=0.2,random_state=100)\n"
   ]
  },
  {
   "cell_type": "code",
   "execution_count": 12,
   "metadata": {},
   "outputs": [],
   "source": [
    "from sklearn.utils import shuffle\n",
    "x, ySpeed, ySteering = shuffle(x, ySpeed, ySteering, random_state=0)"
   ]
  },
  {
   "cell_type": "code",
   "execution_count": 13,
   "metadata": {},
   "outputs": [],
   "source": [
    "#c1 = np.c_[x.reshape(len(x), -1), ySpeed.reshape(len(ySpeed), -1)]\n",
    "#x = c1[:, :x.size//len(x)].reshape(x.shape)\n",
    "#ySpeed = c1[:, x.size//len(ySpeed):].reshape(ySpeed.shape)\n",
    "\n",
    "#c2 = np.c_[x.reshape(len(x), -1), ySteering.reshape(len(ySteering), -1)]"
   ]
  },
  {
   "cell_type": "code",
   "execution_count": 14,
   "metadata": {},
   "outputs": [
    {
     "name": "stdout",
     "output_type": "stream",
     "text": [
      "(30538, 3, 160, 320) (30538,) (30538,)\n"
     ]
    }
   ],
   "source": [
    "#c2 = np.c_[x.reshape(len(x), -1), ySteering.reshape(len(ySteering), -1)]\n",
    "#ySteering = c2[:, x.size//len(ySteering):].reshape(ySteering.shape)\n",
    "\n",
    "print(x.shape, ySpeed.shape, ySteering.shape)"
   ]
  },
  {
   "cell_type": "code",
   "execution_count": 16,
   "metadata": {},
   "outputs": [
    {
     "name": "stdout",
     "output_type": "stream",
     "text": [
      "(25000, 3, 160, 320)\n",
      "(5538, 3, 160, 320)\n",
      "25000\n",
      "5538\n",
      "25000\n",
      "5538\n"
     ]
    }
   ],
   "source": [
    "x_train = x[0:25000, :, :, :]\n",
    "x_test = x[25000:30538, :, :, :]\n",
    "\n",
    "ySpeed.reshape(30538, 1)\n",
    "ySteering.reshape(30538, 1)\n",
    "\n",
    "ySpeed_train = ySpeed[0:25000]\n",
    "ySpeed_test = ySpeed[25000:30538]\n",
    "ySteering_train = ySteering[0:25000]\n",
    "ySteering_test = ySteering[25000:30538]\n",
    "\n",
    "print (x_train.shape)\n",
    "print(x_test.shape)\n",
    "print(len(ySpeed_train))\n",
    "print(len(ySpeed_test))\n",
    "\n",
    "print(len(ySteering_train))\n",
    "print(len(ySteering_test))"
   ]
  },
  {
   "cell_type": "code",
   "execution_count": 17,
   "metadata": {},
   "outputs": [
    {
     "name": "stdout",
     "output_type": "stream",
     "text": [
      "(25000, 160, 320, 3)\n"
     ]
    },
    {
     "data": {
      "text/plain": [
       "(5538, 160, 320, 3)"
      ]
     },
     "execution_count": 17,
     "metadata": {},
     "output_type": "execute_result"
    }
   ],
   "source": [
    "x_train = np.rollaxis(x_train, 1, 4)\n",
    "x_test = np.rollaxis(x_test, 1, 4)\n",
    "print(x_train.shape)\n",
    "x_test.shape"
   ]
  },
  {
   "cell_type": "code",
   "execution_count": 18,
   "metadata": {},
   "outputs": [
    {
     "name": "stdout",
     "output_type": "stream",
     "text": [
      "(25000, 2)\n"
     ]
    }
   ],
   "source": [
    "#x_train = x_train  / 255.0\n",
    "#x_test = x_test / 255.0\n",
    "#memory error\n",
    "#np.column_stack((a,b))\n",
    "\n",
    "y_train = np.column_stack((ySpeed_train, ySteering_train))\n",
    "y_test = np.column_stack((ySpeed_test, ySteering_test))\n",
    "\n",
    "print(y_train.shape)"
   ]
  },
  {
   "cell_type": "code",
   "execution_count": null,
   "metadata": {},
   "outputs": [],
   "source": [
    "import tensorflow as tf\n",
    "def multitask_loss(y_true, y_pred):\n",
    "    lossSpeed = tf.losses.mean_squared_error(y_true[:,0], y_pred[:,0])\n",
    "    lossSteering = tf.losses.mean_squared_error(y_true[:,1], y_pred[:,1])\n",
    "    \n",
    "    jointLoss = lossSpeed + lossSteering \n",
    "    print (lossSpeed, lossSteering)\n",
    "    return jointLoss\n",
    "    "
   ]
  },
  {
   "cell_type": "code",
   "execution_count": 19,
   "metadata": {},
   "outputs": [
    {
     "name": "stderr",
     "output_type": "stream",
     "text": [
      "Using TensorFlow backend.\n",
      "/home/is-lab/.local/lib/python3.5/site-packages/ipykernel_launcher.py:22: UserWarning: Update your `Conv2D` call to the Keras 2 API: `Conv2D(16, (8, 8), padding=\"same\", strides=(4, 4))`\n",
      "/home/is-lab/.local/lib/python3.5/site-packages/ipykernel_launcher.py:24: UserWarning: Update your `Conv2D` call to the Keras 2 API: `Conv2D(32, (5, 5), padding=\"same\", strides=(2, 2))`\n",
      "/home/is-lab/.local/lib/python3.5/site-packages/ipykernel_launcher.py:28: UserWarning: Update your `Conv2D` call to the Keras 2 API: `Conv2D(64, (5, 5), padding=\"same\", strides=(2, 2))`\n",
      "/home/is-lab/.local/lib/python3.5/site-packages/ipykernel_launcher.py:41: UserWarning: Update your `Conv2D` call to the Keras 2 API: `Conv2D(64, (3, 3), padding=\"same\", strides=(1, 1))`\n",
      "/home/is-lab/.local/lib/python3.5/site-packages/ipykernel_launcher.py:43: UserWarning: Update your `Conv2D` call to the Keras 2 API: `Conv2D(64, (3, 3), padding=\"same\", strides=(1, 1))`\n"
     ]
    },
    {
     "name": "stdout",
     "output_type": "stream",
     "text": [
      "Train on 25000 samples, validate on 5538 samples\n",
      "Epoch 1/10\n",
      "25000/25000 [==============================] - 175s 7ms/step - loss: 19051.5726 - dense_4_loss: 1.4004 - dense_2_loss: 19050.1722 - val_loss: 17489.1557 - val_dense_4_loss: 0.6118 - val_dense_2_loss: 17488.5439\n",
      "Epoch 2/10\n",
      "25000/25000 [==============================] - 174s 7ms/step - loss: 11667.4013 - dense_4_loss: 0.6116 - dense_2_loss: 11666.7897 - val_loss: 8938.2907 - val_dense_4_loss: 0.2718 - val_dense_2_loss: 8938.0189\n",
      "Epoch 3/10\n",
      "25000/25000 [==============================] - 175s 7ms/step - loss: 7083.1021 - dense_4_loss: 0.4224 - dense_2_loss: 7082.6796 - val_loss: 6094.6726 - val_dense_4_loss: 0.1786 - val_dense_2_loss: 6094.4940\n",
      "Epoch 4/10\n",
      "25000/25000 [==============================] - 175s 7ms/step - loss: 5465.5903 - dense_4_loss: 0.3466 - dense_2_loss: 5465.2437 - val_loss: 5189.9357 - val_dense_4_loss: 0.1216 - val_dense_2_loss: 5189.8141\n",
      "Epoch 5/10\n",
      "25000/25000 [==============================] - 175s 7ms/step - loss: 4292.5080 - dense_4_loss: 0.2959 - dense_2_loss: 4292.2121 - val_loss: 4066.7381 - val_dense_4_loss: 0.1422 - val_dense_2_loss: 4066.5959\n",
      "Epoch 6/10\n",
      "25000/25000 [==============================] - 175s 7ms/step - loss: 3757.5592 - dense_4_loss: 0.2670 - dense_2_loss: 3757.2922 - val_loss: 4401.2606 - val_dense_4_loss: 0.1180 - val_dense_2_loss: 4401.1426\n",
      "Epoch 7/10\n",
      "25000/25000 [==============================] - 175s 7ms/step - loss: 3198.3604 - dense_4_loss: 0.2529 - dense_2_loss: 3198.1074 - val_loss: 2823.3243 - val_dense_4_loss: 0.1175 - val_dense_2_loss: 2823.2068\n",
      "Epoch 8/10\n",
      "25000/25000 [==============================] - 175s 7ms/step - loss: 2886.3535 - dense_4_loss: 0.2440 - dense_2_loss: 2886.1095 - val_loss: 2581.7892 - val_dense_4_loss: 0.1063 - val_dense_2_loss: 2581.6829\n",
      "Epoch 9/10\n",
      "25000/25000 [==============================] - 175s 7ms/step - loss: 2447.2908 - dense_4_loss: 0.2171 - dense_2_loss: 2447.0736 - val_loss: 2393.3269 - val_dense_4_loss: 0.0867 - val_dense_2_loss: 2393.2402\n",
      "Epoch 10/10\n",
      "25000/25000 [==============================] - 175s 7ms/step - loss: 2313.1482 - dense_4_loss: 0.2133 - dense_2_loss: 2312.9348 - val_loss: 2621.4975 - val_dense_4_loss: 0.0765 - val_dense_2_loss: 2621.4210\n"
     ]
    },
    {
     "data": {
      "text/plain": [
       "<keras.callbacks.History at 0x7f9f4eac2f28>"
      ]
     },
     "execution_count": 19,
     "metadata": {},
     "output_type": "execute_result"
    }
   ],
   "source": [
    "import keras\n",
    "from keras.models import Sequential\n",
    "from keras.layers import Dense, Dropout, Flatten, Lambda, ELU, Input\n",
    "from keras.layers import Conv2D, MaxPooling2D, Activation \n",
    "from keras.layers.convolutional import Convolution2D\n",
    "from keras.models import Model\n",
    "\n",
    "batch_size = 64\n",
    "num_classes = 5\n",
    "epochs = 10\n",
    "\n",
    "# input image dimensions\n",
    "img_rows, img_cols = 160, 320\n",
    "channels = 3\n",
    "\n",
    "#model = Sequential()\n",
    "\n",
    "main_input = Input(shape=(img_rows, img_cols, channels), dtype='float32', name='main_input')\n",
    "lambda1 = Lambda(lambda x: x/127.5 - 1.,\n",
    "            input_shape=(img_rows, img_cols, channels),\n",
    "            output_shape=(img_rows, img_cols, channels))(main_input)\n",
    "convShared1 = Convolution2D(16, 8, 8, subsample=(4, 4), border_mode=\"same\")(lambda1)\n",
    "eluShared1 = ELU()(convShared1)\n",
    "convShared2 = Convolution2D(32, 5, 5, subsample=(2, 2), border_mode=\"same\")(eluShared1)\n",
    "eluShared2 = ELU()(convShared2)\n",
    "\n",
    "\n",
    "SteeringConv = Convolution2D(64, 5, 5, subsample=(2, 2), border_mode=\"same\")(eluShared2)\n",
    "SteeringFlat = Flatten()(SteeringConv)\n",
    "SteeringDrop1 = Dropout(.2)(SteeringFlat)\n",
    "SteeringElu1 = ELU()(SteeringDrop1)\n",
    "SteeringDense = Dense(512)(SteeringElu1)\n",
    "SteeringDrop2 = Dropout(.5)(SteeringDense)\n",
    "SteeringElu2 = ELU()(SteeringDrop2)\n",
    "steering = Dense(1)(SteeringElu2)\n",
    "\n",
    "\n",
    "SpeedPool1 = MaxPooling2D(pool_size=(2, 2))(eluShared2)\n",
    "SpeedDrop1 = Dropout(0.25)(SpeedPool1)\n",
    "\n",
    "SpeedConv1 = Convolution2D(64, 3, 3, subsample=(1, 1), border_mode=\"same\")(SpeedDrop1)\n",
    "SpeedRelu1 = Activation('relu')(SpeedConv1)\n",
    "SpeedConv2 = Convolution2D(64, 3, 3, subsample=(1, 1), border_mode=\"same\")(SpeedRelu1)\n",
    "SpeedRelu2 = Activation('relu')(SpeedConv2)\n",
    "SpeedPool2 = MaxPooling2D(pool_size=(2, 2))(SpeedRelu2)\n",
    "SpeedDrop2 = Dropout(0.25)(SpeedPool2)\n",
    "\n",
    "SpeedFlat = Flatten()(SpeedDrop2)\n",
    "SpeedDense = Dense(512)(SpeedFlat)\n",
    "SpeedRelu3 = Activation('relu')(SpeedDense)\n",
    "SpeedDrop3 = Dropout(0.5)(SpeedRelu3)\n",
    "speed = Dense(1, kernel_initializer='normal')(SpeedDrop3)\n",
    "\n",
    "\n",
    "model = Model(inputs=main_input, outputs=[speed , steering])\n",
    "\n",
    "model.compile(optimizer='adam', loss='mean_squared_error',\n",
    "              loss_weights=[1., 1.])\n",
    "#model.compile(loss=multitask_loss,\n",
    "#              optimizer='adam')\n",
    "\n",
    "model.fit(x_train, [y_train[:,0],y_train[:,1] ],\n",
    "          batch_size=batch_size,\n",
    "          epochs=epochs,\n",
    "          verbose=1,\n",
    "          validation_data=(x_test, [y_test[:,0],y_test[:,1] ]))"
   ]
  },
  {
   "cell_type": "code",
   "execution_count": null,
   "metadata": {},
   "outputs": [],
   "source": [
    "from keras.models import model_from_json\n",
    "\n",
    "# serialize model to JSON\n",
    "model_json = model.to_json()\n",
    "with open(\"model20epochsshuffledMultitaskcombiningBestModelsBigFilter.json\", \"w\") as json_file:\n",
    "    json_file.write(model_json)\n",
    "# serialize weights to HDF5\n",
    "model.save_weights(\"model20epochsshuffledMultitaskcombiningBestModelsBigFilter.h5\")\n",
    "print(\"Saved model to disk\")\n"
   ]
  },
  {
   "cell_type": "code",
   "execution_count": null,
   "metadata": {},
   "outputs": [],
   "source": [
    "#model.evaluate(x_test, y_test)"
   ]
  },
  {
   "cell_type": "code",
   "execution_count": 20,
   "metadata": {},
   "outputs": [],
   "source": [
    "y_predict = model.predict(x_test)"
   ]
  },
  {
   "cell_type": "code",
   "execution_count": null,
   "metadata": {},
   "outputs": [],
   "source": [
    "y_predict[0]"
   ]
  },
  {
   "cell_type": "code",
   "execution_count": 21,
   "metadata": {},
   "outputs": [
    {
     "name": "stdout",
     "output_type": "stream",
     "text": [
      "Speed 0.9781598262585368\n",
      "Steering 0.8850607501135151\n"
     ]
    }
   ],
   "source": [
    "from sklearn.metrics import r2_score\n",
    "print('Speed', r2_score(y_test[:,0], y_predict[0]))\n",
    "print('Steering', r2_score(y_test[:,1], y_predict[1]))"
   ]
  },
  {
   "cell_type": "code",
   "execution_count": 22,
   "metadata": {},
   "outputs": [],
   "source": [
    "x = np.rollaxis(x, 1, 4)\n",
    "\n",
    "y_predictWhole = model.predict(x)"
   ]
  },
  {
   "cell_type": "code",
   "execution_count": 23,
   "metadata": {},
   "outputs": [
    {
     "name": "stdout",
     "output_type": "stream",
     "text": [
      "0.9818276356576758 0.9124442801151784\n"
     ]
    }
   ],
   "source": [
    "print(r2_score(ySpeed, y_predictWhole[0]), r2_score(ySteering, y_predictWhole[1]))\n"
   ]
  },
  {
   "cell_type": "code",
   "execution_count": null,
   "metadata": {},
   "outputs": [],
   "source": []
  },
  {
   "cell_type": "code",
   "execution_count": null,
   "metadata": {},
   "outputs": [],
   "source": []
  }
 ],
 "metadata": {
  "kernelspec": {
   "display_name": "Python 3",
   "language": "python",
   "name": "python3"
  },
  "language_info": {
   "codemirror_mode": {
    "name": "ipython",
    "version": 3
   },
   "file_extension": ".py",
   "mimetype": "text/x-python",
   "name": "python",
   "nbconvert_exporter": "python",
   "pygments_lexer": "ipython3",
   "version": "3.7.1"
  }
 },
 "nbformat": 4,
 "nbformat_minor": 2
}
