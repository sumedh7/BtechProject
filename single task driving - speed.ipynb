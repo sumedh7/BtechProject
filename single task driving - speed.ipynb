{
 "cells": [
  {
   "cell_type": "code",
   "execution_count": 12,
   "metadata": {},
   "outputs": [
    {
     "data": {
      "text/plain": [
       "['X']"
      ]
     },
     "execution_count": 12,
     "metadata": {},
     "output_type": "execute_result"
    }
   ],
   "source": [
    "import h5py\n",
    "filenameCamera = '/media/is-lab/2E82556B82553913/SP/camera/2016-01-31--19-19-25.h5'\n",
    "fCamera = h5py.File(filenameCamera, 'r')\n",
    "\n",
    "list (fCamera)\n",
    "\n",
    "# List all groups\n",
    "#print(\"Keys: %s\" % f.keys())\n",
    "#a_group_key = list(f.keys())[0]\n",
    "\n",
    "# Get the data\n",
    "#data = list(f[a_group_key])\n",
    "#print (data)"
   ]
  },
  {
   "cell_type": "code",
   "execution_count": 13,
   "metadata": {},
   "outputs": [
    {
     "data": {
      "text/plain": [
       "(19731, 3, 160, 320)"
      ]
     },
     "execution_count": 13,
     "metadata": {},
     "output_type": "execute_result"
    }
   ],
   "source": [
    "fCamera['X'].shape"
   ]
  },
  {
   "cell_type": "code",
   "execution_count": 14,
   "metadata": {},
   "outputs": [
    {
     "data": {
      "text/plain": [
       "['UN_D_cam1_ptr',\n",
       " 'UN_D_cam2_ptr',\n",
       " 'UN_D_camphone_ptr',\n",
       " 'UN_D_lidar_ptr',\n",
       " 'UN_D_radar_msg',\n",
       " 'UN_D_rawgps',\n",
       " 'UN_T_cam1_ptr',\n",
       " 'UN_T_cam2_ptr',\n",
       " 'UN_T_camphone_ptr',\n",
       " 'UN_T_lidar_ptr',\n",
       " 'UN_T_radar_msg',\n",
       " 'UN_T_rawgps',\n",
       " 'blinker',\n",
       " 'brake',\n",
       " 'brake_computer',\n",
       " 'brake_user',\n",
       " 'cam1_ptr',\n",
       " 'cam2_ptr',\n",
       " 'camphone_ptr',\n",
       " 'car_accel',\n",
       " 'fiber_accel',\n",
       " 'fiber_compass',\n",
       " 'fiber_compass_x',\n",
       " 'fiber_compass_y',\n",
       " 'fiber_compass_z',\n",
       " 'fiber_gyro',\n",
       " 'fiber_temperature',\n",
       " 'gas',\n",
       " 'gear_choice',\n",
       " 'gps_1_fix',\n",
       " 'gps_1_pos',\n",
       " 'gps_1_vel',\n",
       " 'gps_2_fix',\n",
       " 'gps_2_pos',\n",
       " 'gps_2_vel',\n",
       " 'idx',\n",
       " 'imu_accel',\n",
       " 'imu_compass',\n",
       " 'imu_gyro',\n",
       " 'rpm',\n",
       " 'rpm_post_torque',\n",
       " 'selfdrive',\n",
       " 'speed',\n",
       " 'speed_abs',\n",
       " 'speed_fl',\n",
       " 'speed_fr',\n",
       " 'speed_rl',\n",
       " 'speed_rr',\n",
       " 'standstill',\n",
       " 'steering_angle',\n",
       " 'steering_torque',\n",
       " 'times',\n",
       " 'velodyne_gps',\n",
       " 'velodyne_heading',\n",
       " 'velodyne_imu']"
      ]
     },
     "execution_count": 14,
     "metadata": {},
     "output_type": "execute_result"
    }
   ],
   "source": [
    "import h5py\n",
    "filenameLog = '/media/is-lab/2E82556B82553913/SP/log/2016-01-31--19-19-25.h5'\n",
    "fLog = h5py.File(filenameLog, 'r')\n",
    "\n",
    "list (fLog)\n"
   ]
  },
  {
   "cell_type": "code",
   "execution_count": 3,
   "metadata": {},
   "outputs": [
    {
     "data": {
      "text/plain": [
       "(98719,)"
      ]
     },
     "execution_count": 3,
     "metadata": {},
     "output_type": "execute_result"
    }
   ],
   "source": [
    "\n",
    "a = fLog['cam1_ptr']\n",
    "#len([i for i, e in enumerate(a) if e != 0])\n",
    "a.shape"
   ]
  },
  {
   "cell_type": "code",
   "execution_count": 4,
   "metadata": {},
   "outputs": [],
   "source": [
    "a1 = list(a)\n",
    "#print (a1)\n",
    "#print(a[3000:4000])\n",
    "#a.index(\"621\")\n",
    "#print(a[294916])"
   ]
  },
  {
   "cell_type": "code",
   "execution_count": 5,
   "metadata": {},
   "outputs": [
    {
     "data": {
      "text/plain": [
       "3141"
      ]
     },
     "execution_count": 5,
     "metadata": {},
     "output_type": "execute_result"
    }
   ],
   "source": [
    "a1.index(621)"
   ]
  },
  {
   "cell_type": "code",
   "execution_count": null,
   "metadata": {},
   "outputs": [],
   "source": [
    "fLog['speed'][3148]"
   ]
  },
  {
   "cell_type": "code",
   "execution_count": 6,
   "metadata": {},
   "outputs": [
    {
     "name": "stdout",
     "output_type": "stream",
     "text": [
      "19731\n"
     ]
    }
   ],
   "source": [
    "prev = 0\n",
    "k = 0\n",
    "sum = 0\n",
    "l = 0\n",
    "m = list()\n",
    "for i in a:\n",
    "    if i!=prev:\n",
    "        m.append(sum/l)\n",
    "        l = 1\n",
    "        sum = fLog['speed'][k];\n",
    "    else:\n",
    "        sum = sum + fLog['speed'][k]\n",
    "        l = l+1\n",
    "    prev = i\n",
    "    k = k+1\n",
    "    \n",
    "print(len(m))"
   ]
  },
  {
   "cell_type": "code",
   "execution_count": null,
   "metadata": {},
   "outputs": [],
   "source": [
    "#len(m)"
   ]
  },
  {
   "cell_type": "code",
   "execution_count": null,
   "metadata": {},
   "outputs": [],
   "source": [
    "image = fCamera['X'][4091,:,:,:]\n",
    "print(image.shape)\n",
    "import numpy as np\n",
    "import matplotlib.pyplot as plt\n",
    "import matplotlib.image as mpimg\n",
    "from PIL import Image\n",
    "\n",
    "def rgb2gray(rgb):\n",
    "    r, g, b = rgb[0,:,:], rgb[1,:,:], rgb[2,:,:]\n",
    "    gray = 0.2989 * r + 0.5870 * g + 0.1140 * b\n",
    "    #return np.dot(rgb[:3,:,:], [0.299, 0.587, 0.114])\n",
    "    return gray\n",
    "     \n",
    "from scipy.misc import toimage\n",
    "from scipy.misc import imshow\n",
    "imshow(image)\n",
    "\n",
    "gray = rgb2gray(image)  \n",
    "imshow(gray)"
   ]
  },
  {
   "cell_type": "code",
   "execution_count": 8,
   "metadata": {},
   "outputs": [
    {
     "name": "stderr",
     "output_type": "stream",
     "text": [
      "/home/is-lab/.local/lib/python3.5/site-packages/h5py/_hl/dataset.py:313: H5pyDeprecationWarning: dataset.value has been deprecated. Use dataset[()] instead.\n",
      "  \"Use dataset[()] instead.\", H5pyDeprecationWarning)\n"
     ]
    }
   ],
   "source": [
    "x = fCamera['X'].value\n",
    "y = np.asarray(m)\n",
    "#x_train , x_test, y_train, y_test = train_test_split(x,y,test_size=0.2,random_state=100)\n"
   ]
  },
  {
   "cell_type": "code",
   "execution_count": 11,
   "metadata": {},
   "outputs": [
    {
     "ename": "NameError",
     "evalue": "name 'c' is not defined",
     "output_type": "error",
     "traceback": [
      "\u001b[0;31m---------------------------------------------------------------------------\u001b[0m",
      "\u001b[0;31mNameError\u001b[0m                                 Traceback (most recent call last)",
      "\u001b[0;32m<ipython-input-11-ed513c3b3ed6>\u001b[0m in \u001b[0;36m<module>\u001b[0;34m\u001b[0m\n\u001b[1;32m      1\u001b[0m \u001b[0;31m#c = np.c_[x.reshape(len(x), -1), y.reshape(len(y), -1)]\u001b[0m\u001b[0;34m\u001b[0m\u001b[0;34m\u001b[0m\u001b[0m\n\u001b[0;32m----> 2\u001b[0;31m \u001b[0mnp\u001b[0m\u001b[0;34m.\u001b[0m\u001b[0mrandom\u001b[0m\u001b[0;34m.\u001b[0m\u001b[0mshuffle\u001b[0m\u001b[0;34m(\u001b[0m\u001b[0mc\u001b[0m\u001b[0;34m)\u001b[0m\u001b[0;34m\u001b[0m\u001b[0m\n\u001b[0m",
      "\u001b[0;31mNameError\u001b[0m: name 'c' is not defined"
     ]
    }
   ],
   "source": [
    "#c = np.c_[x.reshape(len(x), -1), y.reshape(len(y), -1)]\n",
    "#np.random.shuffle(c)"
   ]
  },
  {
   "cell_type": "code",
   "execution_count": 9,
   "metadata": {},
   "outputs": [
    {
     "ename": "NameError",
     "evalue": "name 'c' is not defined",
     "output_type": "error",
     "traceback": [
      "\u001b[0;31m---------------------------------------------------------------------------\u001b[0m",
      "\u001b[0;31mNameError\u001b[0m                                 Traceback (most recent call last)",
      "\u001b[0;32m<ipython-input-9-04ae2ce46f64>\u001b[0m in \u001b[0;36m<module>\u001b[0;34m\u001b[0m\n\u001b[1;32m      1\u001b[0m \u001b[0mfCamera\u001b[0m\u001b[0;34m.\u001b[0m\u001b[0mclose\u001b[0m\u001b[0;34m(\u001b[0m\u001b[0;34m)\u001b[0m\u001b[0;34m\u001b[0m\u001b[0m\n\u001b[1;32m      2\u001b[0m \u001b[0mfLog\u001b[0m\u001b[0;34m.\u001b[0m\u001b[0mclose\u001b[0m\u001b[0;34m(\u001b[0m\u001b[0;34m)\u001b[0m\u001b[0;34m\u001b[0m\u001b[0m\n\u001b[0;32m----> 3\u001b[0;31m \u001b[0mx\u001b[0m \u001b[0;34m=\u001b[0m \u001b[0mc\u001b[0m\u001b[0;34m[\u001b[0m\u001b[0;34m:\u001b[0m\u001b[0;34m,\u001b[0m \u001b[0;34m:\u001b[0m\u001b[0mx\u001b[0m\u001b[0;34m.\u001b[0m\u001b[0msize\u001b[0m\u001b[0;34m//\u001b[0m\u001b[0mlen\u001b[0m\u001b[0;34m(\u001b[0m\u001b[0mx\u001b[0m\u001b[0;34m)\u001b[0m\u001b[0;34m]\u001b[0m\u001b[0;34m.\u001b[0m\u001b[0mreshape\u001b[0m\u001b[0;34m(\u001b[0m\u001b[0mx\u001b[0m\u001b[0;34m.\u001b[0m\u001b[0mshape\u001b[0m\u001b[0;34m)\u001b[0m\u001b[0;34m\u001b[0m\u001b[0m\n\u001b[0m\u001b[1;32m      4\u001b[0m \u001b[0my\u001b[0m \u001b[0;34m=\u001b[0m \u001b[0mc\u001b[0m\u001b[0;34m[\u001b[0m\u001b[0;34m:\u001b[0m\u001b[0;34m,\u001b[0m \u001b[0mx\u001b[0m\u001b[0;34m.\u001b[0m\u001b[0msize\u001b[0m\u001b[0;34m//\u001b[0m\u001b[0mlen\u001b[0m\u001b[0;34m(\u001b[0m\u001b[0my\u001b[0m\u001b[0;34m)\u001b[0m\u001b[0;34m:\u001b[0m\u001b[0;34m]\u001b[0m\u001b[0;34m.\u001b[0m\u001b[0mreshape\u001b[0m\u001b[0;34m(\u001b[0m\u001b[0my\u001b[0m\u001b[0;34m.\u001b[0m\u001b[0mshape\u001b[0m\u001b[0;34m)\u001b[0m\u001b[0;34m\u001b[0m\u001b[0m\n\u001b[1;32m      5\u001b[0m \u001b[0mprint\u001b[0m\u001b[0;34m(\u001b[0m\u001b[0mx\u001b[0m\u001b[0;34m.\u001b[0m\u001b[0mshape\u001b[0m\u001b[0;34m,\u001b[0m \u001b[0my\u001b[0m\u001b[0;34m.\u001b[0m\u001b[0mshape\u001b[0m\u001b[0;34m)\u001b[0m\u001b[0;34m\u001b[0m\u001b[0m\n",
      "\u001b[0;31mNameError\u001b[0m: name 'c' is not defined"
     ]
    }
   ],
   "source": [
    "fCamera.close()\n",
    "fLog.close()\n",
    "#x = c[:, :x.size//len(x)].reshape(x.shape)\n",
    "#y = c[:, x.size//len(y):].reshape(y.shape)\n",
    "print(x.shape, y.shape)"
   ]
  },
  {
   "cell_type": "code",
   "execution_count": null,
   "metadata": {},
   "outputs": [],
   "source": [
    "x_train = x[0:16000, :, :, :]\n",
    "x_test = x[16000:19731, :, :, :]\n",
    "y_train = y[0:16000]\n",
    "y_test = y[16000:19731]\n",
    "print (x_train.shape)\n",
    "print(x_test.shape)\n",
    "print(len(y_train))\n",
    "print(len(y_test))"
   ]
  },
  {
   "cell_type": "code",
   "execution_count": null,
   "metadata": {},
   "outputs": [],
   "source": [
    "x_train = np.rollaxis(x_train, 1, 4)\n",
    "x_test = np.rollaxis(x_test, 1, 4)\n",
    "print(x_train.shape)\n",
    "x_test.shape"
   ]
  },
  {
   "cell_type": "code",
   "execution_count": null,
   "metadata": {},
   "outputs": [],
   "source": [
    "#x_train = x_train  / 255.0\n",
    "#x_test = x_test / 255.0\n",
    "#memory error"
   ]
  },
  {
   "cell_type": "code",
   "execution_count": null,
   "metadata": {},
   "outputs": [],
   "source": [
    "import tensorflow as tf\n",
    "def multitask_loss(y_true, y_pred):\n",
    "    loss1 = tf.losses.mean_squared_error(y_true, y_pred)\n",
    "\n",
    "    jointLoss = loss1\n",
    "    return jointLoss\n",
    "    "
   ]
  },
  {
   "cell_type": "code",
   "execution_count": null,
   "metadata": {},
   "outputs": [],
   "source": [
    "import keras\n",
    "from keras.models import Sequential\n",
    "from keras.layers import Dense, Dropout, Flatten\n",
    "from keras.layers import Conv2D, MaxPooling2D, Activation\n",
    "\n",
    "batch_size = 64\n",
    "num_classes = 5\n",
    "epochs = 25\n",
    "\n",
    "# input image dimensions\n",
    "img_rows, img_cols = 160, 320\n",
    "channels = 3\n",
    "\n",
    "model = Sequential()\n",
    "model.add(Conv2D(32, kernel_size=(3, 3),padding='same',input_shape=(img_rows, img_cols, channels)))\n",
    "model.add(Activation('relu'))\n",
    "model.add(Conv2D(32, (3, 3)))\n",
    "model.add(Activation('relu'))\n",
    "model.add(MaxPooling2D(pool_size=(2, 2)))\n",
    "model.add(Dropout(0.25))\n",
    "\n",
    "model.add(Conv2D(64,(3, 3), padding='same'))\n",
    "model.add(Activation('relu'))\n",
    "model.add(Conv2D(64, (3, 3)))\n",
    "model.add(Activation('relu'))\n",
    "model.add(MaxPooling2D(pool_size=(2, 2)))\n",
    "model.add(Dropout(0.25))\n",
    "\n",
    "model.add(Flatten())\n",
    "model.add(Dense(512))\n",
    "model.add(Activation('relu'))\n",
    "model.add(Dropout(0.5))\n",
    "model.add(Dense(1, kernel_initializer='normal'))\n",
    "#model.add(Activation('sigmoid'))\n",
    "\n",
    "\n",
    "model.compile(loss=multitask_loss,\n",
    "              optimizer='adam')\n",
    "\n",
    "model.fit(x_train, y_train,\n",
    "          batch_size=batch_size,\n",
    "          epochs=epochs,\n",
    "          verbose=1,\n",
    "          validation_data=(x_test, y_test))"
   ]
  },
  {
   "cell_type": "code",
   "execution_count": null,
   "metadata": {},
   "outputs": [],
   "source": [
    "from keras.models import model_from_json\n",
    "\n",
    "# serialize model to JSON\n",
    "model_json = model.to_json()\n",
    "with open(\"model10epochsActualshuffled.json\", \"w\") as json_file:\n",
    "    json_file.write(model_json)\n",
    "# serialize weights to HDF5\n",
    "model.save_weights(\"model10epochsActualshuffled.h5\")\n",
    "print(\"Saved model to disk\")\n"
   ]
  },
  {
   "cell_type": "code",
   "execution_count": null,
   "metadata": {},
   "outputs": [],
   "source": [
    "model.evaluate(x_test, y_test)"
   ]
  },
  {
   "cell_type": "code",
   "execution_count": null,
   "metadata": {},
   "outputs": [],
   "source": [
    "y_predict = model.predict(x_test)"
   ]
  },
  {
   "cell_type": "code",
   "execution_count": null,
   "metadata": {},
   "outputs": [],
   "source": [
    "from sklearn.metrics import r2_score\n",
    "r2_score(y_test, y_predict)"
   ]
  },
  {
   "cell_type": "code",
   "execution_count": null,
   "metadata": {},
   "outputs": [],
   "source": [
    "y_test[3000:3730]"
   ]
  }
 ],
 "metadata": {
  "kernelspec": {
   "display_name": "Python 3",
   "language": "python",
   "name": "python3"
  },
  "language_info": {
   "codemirror_mode": {
    "name": "ipython",
    "version": 3
   },
   "file_extension": ".py",
   "mimetype": "text/x-python",
   "name": "python",
   "nbconvert_exporter": "python",
   "pygments_lexer": "ipython3",
   "version": "3.7.1"
  }
 },
 "nbformat": 4,
 "nbformat_minor": 2
}
