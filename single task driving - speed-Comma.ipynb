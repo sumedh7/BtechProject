{
 "cells": [
  {
   "cell_type": "code",
   "execution_count": 1,
   "metadata": {},
   "outputs": [
    {
     "data": {
      "text/plain": [
       "['X']"
      ]
     },
     "execution_count": 1,
     "metadata": {},
     "output_type": "execute_result"
    }
   ],
   "source": [
    "import h5py\n",
    "filenameCamera = '/media/is-lab/2E82556B82553913/SP/camera/2016-01-31--19-19-25.h5'\n",
    "fCamera = h5py.File(filenameCamera, 'r')\n",
    "\n",
    "list (fCamera)\n",
    "\n",
    "# List all groups\n",
    "#print(\"Keys: %s\" % f.keys())\n",
    "#a_group_key = list(f.keys())[0]\n",
    "\n",
    "# Get the data\n",
    "#data = list(f[a_group_key])\n",
    "#print (data)"
   ]
  },
  {
   "cell_type": "code",
   "execution_count": 2,
   "metadata": {},
   "outputs": [
    {
     "data": {
      "text/plain": [
       "(19731, 3, 160, 320)"
      ]
     },
     "execution_count": 2,
     "metadata": {},
     "output_type": "execute_result"
    }
   ],
   "source": [
    "fCamera['X'].shape"
   ]
  },
  {
   "cell_type": "code",
   "execution_count": 3,
   "metadata": {},
   "outputs": [
    {
     "data": {
      "text/plain": [
       "['UN_D_cam1_ptr',\n",
       " 'UN_D_cam2_ptr',\n",
       " 'UN_D_camphone_ptr',\n",
       " 'UN_D_lidar_ptr',\n",
       " 'UN_D_radar_msg',\n",
       " 'UN_D_rawgps',\n",
       " 'UN_T_cam1_ptr',\n",
       " 'UN_T_cam2_ptr',\n",
       " 'UN_T_camphone_ptr',\n",
       " 'UN_T_lidar_ptr',\n",
       " 'UN_T_radar_msg',\n",
       " 'UN_T_rawgps',\n",
       " 'blinker',\n",
       " 'brake',\n",
       " 'brake_computer',\n",
       " 'brake_user',\n",
       " 'cam1_ptr',\n",
       " 'cam2_ptr',\n",
       " 'camphone_ptr',\n",
       " 'car_accel',\n",
       " 'fiber_accel',\n",
       " 'fiber_compass',\n",
       " 'fiber_compass_x',\n",
       " 'fiber_compass_y',\n",
       " 'fiber_compass_z',\n",
       " 'fiber_gyro',\n",
       " 'fiber_temperature',\n",
       " 'gas',\n",
       " 'gear_choice',\n",
       " 'gps_1_fix',\n",
       " 'gps_1_pos',\n",
       " 'gps_1_vel',\n",
       " 'gps_2_fix',\n",
       " 'gps_2_pos',\n",
       " 'gps_2_vel',\n",
       " 'idx',\n",
       " 'imu_accel',\n",
       " 'imu_compass',\n",
       " 'imu_gyro',\n",
       " 'rpm',\n",
       " 'rpm_post_torque',\n",
       " 'selfdrive',\n",
       " 'speed',\n",
       " 'speed_abs',\n",
       " 'speed_fl',\n",
       " 'speed_fr',\n",
       " 'speed_rl',\n",
       " 'speed_rr',\n",
       " 'standstill',\n",
       " 'steering_angle',\n",
       " 'steering_torque',\n",
       " 'times',\n",
       " 'velodyne_gps',\n",
       " 'velodyne_heading',\n",
       " 'velodyne_imu']"
      ]
     },
     "execution_count": 3,
     "metadata": {},
     "output_type": "execute_result"
    }
   ],
   "source": [
    "import h5py\n",
    "filenameLog = '/media/is-lab/2E82556B82553913/SP/log/2016-01-31--19-19-25.h5'\n",
    "fLog = h5py.File(filenameLog, 'r')\n",
    "\n",
    "list (fLog)\n"
   ]
  },
  {
   "cell_type": "code",
   "execution_count": 4,
   "metadata": {},
   "outputs": [
    {
     "data": {
      "text/plain": [
       "(98719,)"
      ]
     },
     "execution_count": 4,
     "metadata": {},
     "output_type": "execute_result"
    }
   ],
   "source": [
    "\n",
    "a = fLog['cam1_ptr']\n",
    "#len([i for i, e in enumerate(a) if e != 0])\n",
    "a.shape"
   ]
  },
  {
   "cell_type": "code",
   "execution_count": 5,
   "metadata": {},
   "outputs": [],
   "source": [
    "a1 = list(a)\n",
    "#print (a1)\n",
    "#print(a[3000:4000])\n",
    "#a.index(\"621\")\n",
    "#print(a[294916])"
   ]
  },
  {
   "cell_type": "code",
   "execution_count": 6,
   "metadata": {},
   "outputs": [
    {
     "data": {
      "text/plain": [
       "3141"
      ]
     },
     "execution_count": 6,
     "metadata": {},
     "output_type": "execute_result"
    }
   ],
   "source": [
    "a1.index(621)"
   ]
  },
  {
   "cell_type": "code",
   "execution_count": 7,
   "metadata": {},
   "outputs": [
    {
     "data": {
      "text/plain": [
       "-0.7588629396396555"
      ]
     },
     "execution_count": 7,
     "metadata": {},
     "output_type": "execute_result"
    }
   ],
   "source": [
    "fLog['speed'][3148]"
   ]
  },
  {
   "cell_type": "code",
   "execution_count": 8,
   "metadata": {},
   "outputs": [
    {
     "name": "stdout",
     "output_type": "stream",
     "text": [
      "19731\n"
     ]
    }
   ],
   "source": [
    "prev = 0\n",
    "k = 0\n",
    "sum = 0\n",
    "l = 0\n",
    "m = list()\n",
    "for i in a:\n",
    "    if i!=prev:\n",
    "        m.append(sum/l)\n",
    "        l = 1\n",
    "        sum = fLog['speed'][k];\n",
    "    else:\n",
    "        sum = sum + fLog['speed'][k]\n",
    "        l = l+1\n",
    "    prev = i\n",
    "    k = k+1\n",
    "    \n",
    "print(len(m))"
   ]
  },
  {
   "cell_type": "code",
   "execution_count": 9,
   "metadata": {},
   "outputs": [],
   "source": [
    "#len(m)"
   ]
  },
  {
   "cell_type": "code",
   "execution_count": 10,
   "metadata": {},
   "outputs": [
    {
     "name": "stdout",
     "output_type": "stream",
     "text": [
      "(3, 160, 320)\n"
     ]
    }
   ],
   "source": [
    "image = fCamera['X'][4090,:,:,:]\n",
    "print(image.shape)\n",
    "import numpy as np\n",
    "import matplotlib.pyplot as plt\n",
    "import matplotlib.image as mpimg\n",
    "from PIL import Image\n",
    "\n",
    "def rgb2gray(rgb):\n",
    "    r, g, b = rgb[0,:,:], rgb[1,:,:], rgb[2,:,:]\n",
    "    gray = 0.2989 * r + 0.5870 * g + 0.1140 * b\n",
    "    #return np.dot(rgb[:3,:,:], [0.299, 0.587, 0.114])\n",
    "    return gray\n",
    "     \n",
    "from scipy.misc import toimage\n",
    "from scipy.misc import imshow\n",
    "#imshow(image)\n",
    "\n",
    "gray = rgb2gray(image)  \n",
    "#imshow(gray)"
   ]
  },
  {
   "cell_type": "code",
   "execution_count": 11,
   "metadata": {},
   "outputs": [
    {
     "name": "stderr",
     "output_type": "stream",
     "text": [
      "/home/is-lab/.local/lib/python3.5/site-packages/h5py/_hl/dataset.py:313: H5pyDeprecationWarning: dataset.value has been deprecated. Use dataset[()] instead.\n",
      "  \"Use dataset[()] instead.\", H5pyDeprecationWarning)\n"
     ]
    }
   ],
   "source": [
    "x = fCamera['X'].value\n",
    "y = np.asarray(m)\n",
    "#x_train , x_test, y_train, y_test = train_test_split(x,y,test_size=0.2,random_state=100)\n"
   ]
  },
  {
   "cell_type": "code",
   "execution_count": 12,
   "metadata": {},
   "outputs": [],
   "source": [
    "c = np.c_[x.reshape(len(x), -1), y.reshape(len(y), -1)]\n",
    "np.random.shuffle(c)"
   ]
  },
  {
   "cell_type": "code",
   "execution_count": 13,
   "metadata": {},
   "outputs": [
    {
     "name": "stdout",
     "output_type": "stream",
     "text": [
      "(19731, 3, 160, 320) (19731,)\n"
     ]
    }
   ],
   "source": [
    "fCamera.close()\n",
    "fLog.close()\n",
    "x = c[:, :x.size//len(x)].reshape(x.shape)\n",
    "y = c[:, x.size//len(y):].reshape(y.shape)\n",
    "print(x.shape, y.shape)"
   ]
  },
  {
   "cell_type": "code",
   "execution_count": 14,
   "metadata": {},
   "outputs": [
    {
     "name": "stdout",
     "output_type": "stream",
     "text": [
      "(16000, 3, 160, 320)\n",
      "(3731, 3, 160, 320)\n",
      "16000\n",
      "3731\n"
     ]
    }
   ],
   "source": [
    "x_train = x[0:16000, :, :, :]\n",
    "x_test = x[16000:19731, :, :, :]\n",
    "y_train = y[0:16000]\n",
    "y_test = y[16000:19731]\n",
    "print (x_train.shape)\n",
    "print(x_test.shape)\n",
    "print(len(y_train))\n",
    "print(len(y_test))"
   ]
  },
  {
   "cell_type": "code",
   "execution_count": 15,
   "metadata": {},
   "outputs": [
    {
     "name": "stdout",
     "output_type": "stream",
     "text": [
      "(16000, 160, 320, 3)\n"
     ]
    },
    {
     "data": {
      "text/plain": [
       "(3731, 160, 320, 3)"
      ]
     },
     "execution_count": 15,
     "metadata": {},
     "output_type": "execute_result"
    }
   ],
   "source": [
    "x_train = np.rollaxis(x_train, 1, 4)\n",
    "x_test = np.rollaxis(x_test, 1, 4)\n",
    "print(x_train.shape)\n",
    "x_test.shape"
   ]
  },
  {
   "cell_type": "code",
   "execution_count": 16,
   "metadata": {},
   "outputs": [],
   "source": [
    "#x_train = x_train  / 255.0\n",
    "#x_test = x_test / 255.0\n",
    "#memory error"
   ]
  },
  {
   "cell_type": "code",
   "execution_count": 17,
   "metadata": {},
   "outputs": [],
   "source": [
    "import tensorflow as tf\n",
    "def multitask_loss(y_true, y_pred):\n",
    "    loss1 = tf.losses.mean_squared_error(y_true, y_pred)\n",
    "\n",
    "    jointLoss = loss1\n",
    "    return jointLoss\n",
    "    "
   ]
  },
  {
   "cell_type": "code",
   "execution_count": 18,
   "metadata": {},
   "outputs": [
    {
     "name": "stderr",
     "output_type": "stream",
     "text": [
      "Using TensorFlow backend.\n",
      "/home/is-lab/.local/lib/python3.5/site-packages/ipykernel_launcher.py:46: UserWarning: Update your `Conv2D` call to the Keras 2 API: `Conv2D(16, (8, 8), strides=(4, 4), padding=\"same\")`\n",
      "/home/is-lab/.local/lib/python3.5/site-packages/ipykernel_launcher.py:48: UserWarning: Update your `Conv2D` call to the Keras 2 API: `Conv2D(32, (5, 5), strides=(2, 2), padding=\"same\")`\n",
      "/home/is-lab/.local/lib/python3.5/site-packages/ipykernel_launcher.py:50: UserWarning: Update your `Conv2D` call to the Keras 2 API: `Conv2D(64, (5, 5), strides=(2, 2), padding=\"same\")`\n"
     ]
    },
    {
     "name": "stdout",
     "output_type": "stream",
     "text": [
      "Train on 16000 samples, validate on 3731 samples\n",
      "Epoch 1/25\n",
      "16000/16000 [==============================] - 99s 6ms/step - loss: 65.5564 - val_loss: 36.5717\n",
      "Epoch 2/25\n",
      "16000/16000 [==============================] - 99s 6ms/step - loss: 30.6311 - val_loss: 35.7914\n",
      "Epoch 3/25\n",
      "16000/16000 [==============================] - 99s 6ms/step - loss: 21.1726 - val_loss: 17.0716\n",
      "Epoch 4/25\n",
      "16000/16000 [==============================] - 99s 6ms/step - loss: 15.0275 - val_loss: 28.4057\n",
      "Epoch 5/25\n",
      "16000/16000 [==============================] - 100s 6ms/step - loss: 12.0156 - val_loss: 59.7348\n",
      "Epoch 6/25\n",
      "16000/16000 [==============================] - 99s 6ms/step - loss: 9.2587 - val_loss: 54.7178\n",
      "Epoch 7/25\n",
      "16000/16000 [==============================] - 99s 6ms/step - loss: 8.0480 - val_loss: 46.1708\n",
      "Epoch 8/25\n",
      "16000/16000 [==============================] - 99s 6ms/step - loss: 7.4522 - val_loss: 58.8054\n",
      "Epoch 9/25\n",
      "16000/16000 [==============================] - 100s 6ms/step - loss: 6.3644 - val_loss: 60.7433\n",
      "Epoch 10/25\n",
      "16000/16000 [==============================] - 102s 6ms/step - loss: 5.8969 - val_loss: 56.4722\n",
      "Epoch 11/25\n",
      "16000/16000 [==============================] - 104s 7ms/step - loss: 5.6798 - val_loss: 63.0475\n",
      "Epoch 12/25\n",
      "16000/16000 [==============================] - 139s 9ms/step - loss: 5.0882 - val_loss: 55.9353\n",
      "Epoch 13/25\n",
      "16000/16000 [==============================] - 119s 7ms/step - loss: 5.0610 - val_loss: 49.9650\n",
      "Epoch 14/25\n",
      "16000/16000 [==============================] - 118s 7ms/step - loss: 5.1286 - val_loss: 60.2465\n",
      "Epoch 15/25\n",
      "16000/16000 [==============================] - 118s 7ms/step - loss: 4.5466 - val_loss: 67.9016\n",
      "Epoch 16/25\n",
      "16000/16000 [==============================] - 120s 7ms/step - loss: 4.5173 - val_loss: 56.2414\n",
      "Epoch 17/25\n",
      "16000/16000 [==============================] - 119s 7ms/step - loss: 4.4804 - val_loss: 44.0766\n",
      "Epoch 18/25\n",
      "16000/16000 [==============================] - 119s 7ms/step - loss: 4.3091 - val_loss: 47.0469\n",
      "Epoch 19/25\n",
      "16000/16000 [==============================] - 118s 7ms/step - loss: 4.1596 - val_loss: 47.0923\n",
      "Epoch 20/25\n",
      "16000/16000 [==============================] - 118s 7ms/step - loss: 4.0929 - val_loss: 65.4972\n",
      "Epoch 21/25\n",
      "16000/16000 [==============================] - 119s 7ms/step - loss: 4.2783 - val_loss: 50.8946\n",
      "Epoch 22/25\n",
      "16000/16000 [==============================] - 119s 7ms/step - loss: 4.1042 - val_loss: 58.6578\n",
      "Epoch 23/25\n",
      "16000/16000 [==============================] - 121s 8ms/step - loss: 4.1692 - val_loss: 67.2888\n",
      "Epoch 24/25\n",
      "16000/16000 [==============================] - 120s 7ms/step - loss: 4.4411 - val_loss: 56.0826\n",
      "Epoch 25/25\n",
      "16000/16000 [==============================] - 119s 7ms/step - loss: 4.0239 - val_loss: 57.1177\n"
     ]
    },
    {
     "data": {
      "text/plain": [
       "<keras.callbacks.History at 0x7f76c4b33f28>"
      ]
     },
     "execution_count": 18,
     "metadata": {},
     "output_type": "execute_result"
    }
   ],
   "source": [
    "import keras\n",
    "from keras.models import Sequential\n",
    "from keras.layers import Dense, Dropout, Flatten,Lambda, ELU\n",
    "from keras.layers import Conv2D, MaxPooling2D, Activation\n",
    "from keras.layers.convolutional import Convolution2D\n",
    "\n",
    "batch_size = 64\n",
    "num_classes = 5\n",
    "epochs = 25\n",
    "\n",
    "# input image dimensions\n",
    "img_rows, img_cols = 160, 320\n",
    "channels = 3\n",
    "'''\n",
    "model = Sequential()\n",
    "model.add(Conv2D(32, kernel_size=(3, 3),padding='same',input_shape=(img_rows, img_cols, channels)))\n",
    "model.add(Activation('relu'))\n",
    "model.add(Conv2D(32, (3, 3)))\n",
    "model.add(Activation('relu'))\n",
    "model.add(MaxPooling2D(pool_size=(2, 2)))\n",
    "model.add(Dropout(0.25))\n",
    "\n",
    "model.add(Conv2D(64,(3, 3), padding='same'))\n",
    "model.add(Activation('relu'))\n",
    "model.add(Conv2D(64, (3, 3)))\n",
    "model.add(Activation('relu'))\n",
    "model.add(MaxPooling2D(pool_size=(2, 2)))\n",
    "model.add(Dropout(0.25))\n",
    "\n",
    "model.add(Flatten())\n",
    "model.add(Dense(512))\n",
    "model.add(Activation('relu'))\n",
    "model.add(Dropout(0.5))\n",
    "model.add(Dense(1, kernel_initializer='normal'))\n",
    "#model.add(Activation('sigmoid'))\n",
    "\n",
    "\n",
    "model.compile(loss=multitask_loss,\n",
    "              optimizer='adam')\n",
    "'''\n",
    "\n",
    "model = Sequential()\n",
    "model.add(Lambda(lambda x: x/127.5 - 1.,\n",
    "            input_shape=(img_rows, img_cols, channels),\n",
    "            output_shape=(img_rows, img_cols, channels)))\n",
    "model.add(Convolution2D(16, 8, 8, subsample=(4, 4), border_mode=\"same\"))\n",
    "model.add(ELU())\n",
    "model.add(Convolution2D(32, 5, 5, subsample=(2, 2), border_mode=\"same\"))\n",
    "model.add(ELU())\n",
    "model.add(Convolution2D(64, 5, 5, subsample=(2, 2), border_mode=\"same\"))\n",
    "model.add(Flatten())\n",
    "model.add(Dropout(.2))\n",
    "model.add(ELU())\n",
    "model.add(Dense(512))\n",
    "model.add(Dropout(.5))\n",
    "model.add(ELU())\n",
    "model.add(Dense(1))\n",
    "\n",
    "model.compile(optimizer=\"adam\", loss=\"mse\")\n",
    "\n",
    "\n",
    "\n",
    "model.fit(x_train, y_train,\n",
    "          batch_size=batch_size,\n",
    "          epochs=epochs,\n",
    "          verbose=1,\n",
    "          validation_data=(x_test, y_test))"
   ]
  },
  {
   "cell_type": "code",
   "execution_count": 19,
   "metadata": {},
   "outputs": [
    {
     "name": "stdout",
     "output_type": "stream",
     "text": [
      "Saved model to disk\n"
     ]
    }
   ],
   "source": [
    "from keras.models import model_from_json\n",
    "\n",
    "# serialize model to JSON\n",
    "model_json = model.to_json()\n",
    "with open(\"model10epochsshuffledSpeedComma.json\", \"w\") as json_file:\n",
    "    json_file.write(model_json)\n",
    "# serialize weights to HDF5\n",
    "model.save_weights(\"model10epochsshuffledSpeedComma.h5\")\n",
    "print(\"Saved model to disk\")\n"
   ]
  },
  {
   "cell_type": "code",
   "execution_count": 20,
   "metadata": {},
   "outputs": [
    {
     "name": "stdout",
     "output_type": "stream",
     "text": [
      "3731/3731 [==============================] - 7s 2ms/step\n"
     ]
    },
    {
     "data": {
      "text/plain": [
       "57.11772309740118"
      ]
     },
     "execution_count": 20,
     "metadata": {},
     "output_type": "execute_result"
    }
   ],
   "source": [
    "model.evaluate(x_test, y_test)"
   ]
  },
  {
   "cell_type": "code",
   "execution_count": 21,
   "metadata": {},
   "outputs": [],
   "source": [
    "y_predict = model.predict(x_test)"
   ]
  },
  {
   "cell_type": "code",
   "execution_count": 22,
   "metadata": {},
   "outputs": [
    {
     "name": "stderr",
     "output_type": "stream",
     "text": [
      "/home/is-lab/.local/lib/python3.5/site-packages/sklearn/externals/joblib/_multiprocessing_helpers.py:38: UserWarning: [Errno 12] Cannot allocate memory.  joblib will operate in serial mode\n",
      "  warnings.warn('%s.  joblib will operate in serial mode' % (e,))\n"
     ]
    },
    {
     "name": "stdout",
     "output_type": "stream",
     "text": [
      "0.4695701236086026\n"
     ]
    }
   ],
   "source": [
    "from sklearn.metrics import r2_score\n",
    "print(r2_score(y_test, y_predict))"
   ]
  },
  {
   "cell_type": "code",
   "execution_count": 23,
   "metadata": {},
   "outputs": [],
   "source": [
    "x = np.rollaxis(x, 1, 4)\n",
    "\n",
    "y_predictWhole = model.predict(x)"
   ]
  },
  {
   "cell_type": "code",
   "execution_count": 24,
   "metadata": {},
   "outputs": [
    {
     "name": "stdout",
     "output_type": "stream",
     "text": [
      "0.46530682654498157\n"
     ]
    }
   ],
   "source": [
    "print(r2_score(y, y_predictWhole))"
   ]
  },
  {
   "cell_type": "code",
   "execution_count": null,
   "metadata": {},
   "outputs": [],
   "source": []
  }
 ],
 "metadata": {
  "kernelspec": {
   "display_name": "Python 3",
   "language": "python",
   "name": "python3"
  },
  "language_info": {
   "codemirror_mode": {
    "name": "ipython",
    "version": 3
   },
   "file_extension": ".py",
   "mimetype": "text/x-python",
   "name": "python",
   "nbconvert_exporter": "python",
   "pygments_lexer": "ipython3",
   "version": "3.5.2"
  }
 },
 "nbformat": 4,
 "nbformat_minor": 2
}
