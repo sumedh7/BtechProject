{
 "cells": [
  {
   "cell_type": "code",
   "execution_count": 1,
   "metadata": {},
   "outputs": [
    {
     "name": "stderr",
     "output_type": "stream",
     "text": [
      "Using TensorFlow backend.\n"
     ]
    }
   ],
   "source": [
    "import pandas as pd\n",
    "import numpy as np\n",
    "from sklearn.model_selection import train_test_split\n",
    "from keras.models import Sequential\n",
    "from keras.optimizers import Adam\n",
    "from keras.callbacks import ModelCheckpoint\n",
    "from keras.layers import Lambda, Conv2D, MaxPooling2D, Dropout, Dense, Flatten\n",
    "#from utils import INPUT_SHAPE, batch_generator\n",
    "import argparse\n",
    "import os\n",
    "\n",
    "from scipy import ndimage\n",
    "from keras.preprocessing.image import ImageDataGenerator, array_to_img, img_to_array, load_img\n",
    "\n",
    "\n",
    "IMAGE_HEIGHT, IMAGE_WIDTH, IMAGE_CHANNELS = 240, 640, 3\n",
    "INPUT_SHAPE = (IMAGE_HEIGHT, IMAGE_WIDTH, IMAGE_CHANNELS)\n",
    "\n"
   ]
  },
  {
   "cell_type": "code",
   "execution_count": 2,
   "metadata": {},
   "outputs": [],
   "source": [
    "def batch_generator(data_dir, image_paths, steering_angles, batch_size, is_training):\n",
    "    \"\"\"\n",
    "    Generate training image give image paths and associated steering angles\n",
    "    \"\"\"\n",
    "    images = np.empty([batch_size, IMAGE_HEIGHT, IMAGE_WIDTH, IMAGE_CHANNELS])\n",
    "    steers = np.empty(batch_size)\n",
    "    while True:\n",
    "        i = 0\n",
    "        for index in np.random.permutation(image_paths.shape[0]):\n",
    "            center = image_paths[index]\n",
    "            steering_angle = steering_angles[index]\n",
    "            image = load_img(center)\n",
    "            x = img_to_array(image)  \n",
    "            x = x[240:480,:,:]\n",
    "            image = array_to_img(x)\n",
    "            # add the image and steering angle to the batch\n",
    "            images[i] = image\n",
    "            steers[i] = steering_angle\n",
    "            i += 1\n",
    "            if i == batch_size:\n",
    "                break\n",
    "        yield images, steers\n",
    "\n"
   ]
  },
  {
   "cell_type": "code",
   "execution_count": 3,
   "metadata": {},
   "outputs": [],
   "source": [
    "data_df = pd.read_csv('/home/sumedh/Desktop/Hardware/DrivingLog.csv')\n",
    "\n",
    "X = data_df['center'].values\n",
    "y = data_df['steering'].values\n",
    "\n",
    "X_train, X_valid, y_train, y_valid = train_test_split(X, y, random_state=0)\n",
    "\n"
   ]
  },
  {
   "cell_type": "code",
   "execution_count": 4,
   "metadata": {},
   "outputs": [
    {
     "data": {
      "text/plain": [
       "(8568,)"
      ]
     },
     "execution_count": 4,
     "metadata": {},
     "output_type": "execute_result"
    }
   ],
   "source": [
    "#batch_generator('', X_train, y_train, 16, True)\n",
    "X_train.shape"
   ]
  },
  {
   "cell_type": "code",
   "execution_count": null,
   "metadata": {},
   "outputs": [
    {
     "name": "stdout",
     "output_type": "stream",
     "text": [
      "WARNING:tensorflow:From /home/sumedh/anaconda3/lib/python3.7/site-packages/tensorflow/python/framework/op_def_library.py:263: colocate_with (from tensorflow.python.framework.ops) is deprecated and will be removed in a future version.\n",
      "Instructions for updating:\n",
      "Colocations handled automatically by placer.\n",
      "_________________________________________________________________\n",
      "Layer (type)                 Output Shape              Param #   \n",
      "=================================================================\n",
      "lambda_1 (Lambda)            (None, 240, 640, 3)       0         \n",
      "_________________________________________________________________\n",
      "conv2d_1 (Conv2D)            (None, 230, 630, 32)      11648     \n",
      "_________________________________________________________________\n",
      "max_pooling2d_1 (MaxPooling2 (None, 115, 315, 32)      0         \n",
      "_________________________________________________________________\n",
      "conv2d_2 (Conv2D)            (None, 103, 303, 64)      346176    \n",
      "_________________________________________________________________\n",
      "max_pooling2d_2 (MaxPooling2 (None, 51, 151, 64)       0         \n",
      "_________________________________________________________________\n",
      "conv2d_3 (Conv2D)            (None, 37, 137, 128)      1843328   \n",
      "_________________________________________________________________\n",
      "max_pooling2d_3 (MaxPooling2 (None, 18, 68, 128)       0         \n",
      "_________________________________________________________________\n",
      "flatten_1 (Flatten)          (None, 156672)            0         \n",
      "_________________________________________________________________\n",
      "dense_1 (Dense)              (None, 1000)              156673000 \n",
      "_________________________________________________________________\n",
      "dense_2 (Dense)              (None, 1)                 1001      \n",
      "=================================================================\n",
      "Total params: 158,875,153\n",
      "Trainable params: 158,875,153\n",
      "Non-trainable params: 0\n",
      "_________________________________________________________________\n"
     ]
    }
   ],
   "source": [
    "import keras\n",
    "from keras.models import Sequential\n",
    "from keras.layers import Dense, Dropout, Flatten, Lambda, ELU, Input\n",
    "from keras.layers import Conv2D, MaxPooling2D, Activation \n",
    "from keras.layers.convolutional import Convolution2D\n",
    "from keras.models import Model\n",
    "'''\n",
    "model = Sequential()\n",
    "model.add(Lambda(lambda x: x/127.5-1.0, input_shape=(240,640,3)))\n",
    "model.add(Conv2D(16, 17, 17, activation='elu', subsample=(2, 2)))\n",
    "model.add(Conv2D(36, 13, 13, activation='elu', subsample=(2, 2)))\n",
    "model.add(Conv2D(48, 11, 11, activation='elu', subsample=(2, 2)))\n",
    "model.add(Conv2D(64, 5, 5, activation='elu'))\n",
    "model.add(Conv2D(64, 3, 3, activation='elu'))\n",
    "model.add(Dropout(0.5))\n",
    "model.add(Flatten())\n",
    "model.add(Dense(100, activation='elu'))\n",
    "model.add(Dense(50, activation='elu'))\n",
    "model.add(Dense(10, activation='elu'))\n",
    "model.add(Dense(1))\n",
    "model.summary()\n",
    "\n",
    "main_input = Input(shape=INPUT_SHAPE, dtype='float32', name='main_input')\n",
    "lambda1 = Lambda(lambda x: x/127.5 - 1.,\n",
    "            input_shape=INPUT_SHAPE,\n",
    "            output_shape=INPUT_SHAPE)(main_input)\n",
    "convShared1 = Convolution2D(16, 17, 17, subsample=(4, 4), border_mode=\"same\")(lambda1)\n",
    "eluShared1 = ELU()(convShared1)\n",
    "convShared2 = Convolution2D(32, 11, 11, subsample=(2, 2), border_mode=\"same\")(eluShared1)\n",
    "eluShared2 = ELU()(convShared2)\n",
    "\n",
    "\n",
    "SteeringConv = Convolution2D(64, 11, 11, subsample=(2, 2), border_mode=\"same\")(eluShared2)\n",
    "SteeringFlat = Flatten()(SteeringConv)\n",
    "SteeringDrop1 = Dropout(.2)(SteeringFlat)\n",
    "SteeringElu1 = ELU()(SteeringDrop1)\n",
    "SteeringDense = Dense(512)(SteeringElu1)\n",
    "SteeringDrop2 = Dropout(.5)(SteeringDense)\n",
    "SteeringElu2 = ELU()(SteeringDrop2)\n",
    "steering = Dense(1)(SteeringElu2)\n",
    "model = Model(inputs=main_input, outputs= steering)\n",
    "model.summary()\n",
    "'''\n",
    "\n",
    "\n",
    "model = Sequential()\n",
    "model.add(Lambda(lambda x: x/127.5-1.0, input_shape=(240,640,3)))\n",
    "model.add(Conv2D(32, kernel_size=(11, 11), strides=(1, 1),\n",
    "                 activation='relu',\n",
    "                 input_shape=INPUT_SHAPE))\n",
    "model.add(MaxPooling2D(pool_size=(2, 2), strides=(2, 2)))\n",
    "#model.add(Conv2D(32, (9, 9), activation='relu'))\n",
    "#model.add(MaxPooling2D(pool_size=(2, 2)))\n",
    "\n",
    "model.add(Conv2D(64, (13, 13), activation='relu'))\n",
    "model.add(MaxPooling2D(pool_size=(2, 2)))\n",
    "model.add(Conv2D(128, (15, 15), activation='relu'))\n",
    "model.add(MaxPooling2D(pool_size=(2, 2)))\n",
    "\n",
    "\n",
    "model.add(Flatten())\n",
    "model.add(Dense(1000, activation='relu'))\n",
    "model.add(Dense(1))\n",
    "model.summary()\n"
   ]
  },
  {
   "cell_type": "code",
   "execution_count": null,
   "metadata": {},
   "outputs": [
    {
     "name": "stdout",
     "output_type": "stream",
     "text": [
      "WARNING:tensorflow:From /home/sumedh/anaconda3/lib/python3.7/site-packages/tensorflow/python/ops/math_ops.py:3066: to_int32 (from tensorflow.python.ops.math_ops) is deprecated and will be removed in a future version.\n",
      "Instructions for updating:\n",
      "Use tf.cast instead.\n"
     ]
    },
    {
     "name": "stderr",
     "output_type": "stream",
     "text": [
      "/home/sumedh/anaconda3/lib/python3.7/site-packages/ipykernel_launcher.py:16: UserWarning: The semantics of the Keras 2 argument `steps_per_epoch` is not the same as the Keras 1 argument `samples_per_epoch`. `steps_per_epoch` is the number of batches to draw from the generator at each epoch. Basically steps_per_epoch = samples_per_epoch/batch_size. Similarly `nb_val_samples`->`validation_steps` and `val_samples`->`steps` arguments have changed. Update your method calls accordingly.\n",
      "  app.launch_new_instance()\n",
      "/home/sumedh/anaconda3/lib/python3.7/site-packages/ipykernel_launcher.py:16: UserWarning: Update your `fit_generator` call to the Keras 2 API: `fit_generator(<generator..., 250, 10, validation_data=<generator..., verbose=1, validation_steps=2856, max_queue_size=1)`\n",
      "  app.launch_new_instance()\n"
     ]
    },
    {
     "name": "stdout",
     "output_type": "stream",
     "text": [
      "Epoch 1/10\n"
     ]
    }
   ],
   "source": [
    "checkpoint = ModelCheckpoint('model-{epoch:03d}.h5',\n",
    "                             monitor='val_loss',\n",
    "                             verbose=0,\n",
    "                             save_best_only=True,\n",
    "                             mode='auto')\n",
    "\n",
    "model.compile(loss='mean_squared_error', optimizer='adam')\n",
    "\n",
    "model.fit_generator(batch_generator('', X_train, y_train, 32, True),\n",
    "                    250,\n",
    "                    10,\n",
    "                    max_q_size=1,\n",
    "                    validation_data=batch_generator('', X_valid, y_valid, 16, False),\n",
    "                    nb_val_samples=len(X_valid),\n",
    "                    #callbacks=[checkpoint],\n",
    "                    verbose=1)\n"
   ]
  },
  {
   "cell_type": "code",
   "execution_count": null,
   "metadata": {},
   "outputs": [],
   "source": [
    "from keras.models import model_from_json\n",
    "\n",
    "# serialize model to JSON\n",
    "model_json = model.to_json()\n",
    "with open(\"simple.json\", \"w\") as json_file:\n",
    "    json_file.write(model_json)\n",
    "# serialize weights to HDF5\n",
    "model.save_weights(\"simple.h5\")\n",
    "print(\"Saved model to disk\")\n",
    "\n"
   ]
  },
  {
   "cell_type": "code",
   "execution_count": null,
   "metadata": {},
   "outputs": [],
   "source": [
    "model.fit_generator(batch_generator('', X_train, y_train, 32, True),\n",
    "                    250,\n",
    "                    10,\n",
    "                    max_q_size=1,\n",
    "                    validation_data=batch_generator('', X_valid, y_valid, 16, False),\n",
    "                    nb_val_samples=len(X_valid),\n",
    "                    #callbacks=[checkpoint],\n",
    "                    verbose=1)\n"
   ]
  },
  {
   "cell_type": "code",
   "execution_count": null,
   "metadata": {},
   "outputs": [],
   "source": [
    "steers = []\n",
    "a = [2,3,4,5,6,7,8,9,10,11,12,13,14,15,16,17,18,19,20]\n",
    "counter = 0\n",
    "for item in a:\n",
    "    folderX = '/home/sumedh/Desktop/Hardware/Segmented/Run{}'.format(item)\n",
    "    lenFolderX = len([f for f in os.listdir(folderX)])\n",
    "    for i in range(lenFolderX):\n",
    "        img = load_img('/home/sumedh/Desktop/Hardware/Segmented/Run{}/{}.jpg'.format(item, i+1))\n",
    "        x = img_to_array(img)  \n",
    "        x = x[240:480,:,:]\n",
    "        image = array_to_img(x)\n",
    "        image = np.asarray(image)       # from PIL image to numpy array\n",
    "\n",
    "        image = np.array([image])       # the model expects 4D array\n",
    "        #a = image[240:480,:,:]\n",
    "        #print(image.shape)\n",
    "        steering_angle = float(model.predict(image, batch_size=1))\n",
    "        print(steering_angle)\n",
    "        steers.append(steering_angle)"
   ]
  },
  {
   "cell_type": "code",
   "execution_count": null,
   "metadata": {},
   "outputs": [],
   "source": [
    "import csv\n",
    "\n",
    "actual = []\n",
    "a = [2,3,4,5,6,7,8,9,10,11,12,13,14,15,16,17,18,19,20]\n",
    "counter = 0\n",
    "for item in a:\n",
    "    folderX = '/home/sumedh/Desktop/Hardware/NewData/Run{}'.format(item)\n",
    "    lenFolderX = len([f for f in os.listdir(folderX)])\n",
    "    with open(folderX + \"/\" + 'Run{}.csv'.format(item),'rt')as f:\n",
    "        data = csv.reader(f)\n",
    "        for row in data:\n",
    "            print(row[1])\n",
    "            actual.append(float(row[1]))"
   ]
  },
  {
   "cell_type": "code",
   "execution_count": null,
   "metadata": {},
   "outputs": [],
   "source": [
    "print(type(actual), type(steers))\n",
    "print(type(actual[0]), type(steers[0]))\n"
   ]
  },
  {
   "cell_type": "code",
   "execution_count": null,
   "metadata": {},
   "outputs": [],
   "source": [
    "from sklearn.metrics import r2_score\n",
    "#actual = np.asarray(actual)       # from PIL image to numpy array\n",
    "#steers = np.asarray(steers)       # from PIL image to numpy array\n",
    "print(type(actual), type(steers))\n",
    "print(r2_score(actual, steers))\n"
   ]
  }
 ],
 "metadata": {
  "kernelspec": {
   "display_name": "Python 3",
   "language": "python",
   "name": "python3"
  },
  "language_info": {
   "codemirror_mode": {
    "name": "ipython",
    "version": 3
   },
   "file_extension": ".py",
   "mimetype": "text/x-python",
   "name": "python",
   "nbconvert_exporter": "python",
   "pygments_lexer": "ipython3",
   "version": "3.7.1"
  }
 },
 "nbformat": 4,
 "nbformat_minor": 2
}
